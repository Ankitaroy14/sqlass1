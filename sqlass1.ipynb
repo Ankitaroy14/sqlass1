{
 "cells": [
  {
   "cell_type": "code",
   "execution_count": null,
   "id": "fffc8d21",
   "metadata": {},
   "outputs": [],
   "source": [
    "1) Write an SQL query to fetch “FIRST_NAME” from Worker table using the alias\n",
    "name as WORKER_NAME,\n",
    "Ans:- cursor.execute(\"select FIRST_NAME as WORKER_NAME from Worker\")\n",
    "\n",
    "\n",
    "2) Write an SQL query to fetch unique values of DEPARTMENT from Worker table.\n",
    "\n",
    "Ans- cursor.execute(\"select distinct DEPARTMENT from Worker Table\")\n",
    "\n",
    "\n",
    "3) Write an SQL query to show the last 5 record from a table.\n",
    "Ans: cursor.execute(\"select * from worker order by id desc limit 2\")"
   ]
  }
 ],
 "metadata": {
  "kernelspec": {
   "display_name": "Python 3 (ipykernel)",
   "language": "python",
   "name": "python3"
  },
  "language_info": {
   "codemirror_mode": {
    "name": "ipython",
    "version": 3
   },
   "file_extension": ".py",
   "mimetype": "text/x-python",
   "name": "python",
   "nbconvert_exporter": "python",
   "pygments_lexer": "ipython3",
   "version": "3.9.7"
  }
 },
 "nbformat": 4,
 "nbformat_minor": 5
}
